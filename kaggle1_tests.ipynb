{
 "cells": [
  {
   "cell_type": "code",
   "execution_count": 4,
   "id": "580a852d",
   "metadata": {},
   "outputs": [
    {
     "name": "stdout",
     "output_type": "stream",
     "text": [
      "   year  col1_2018  col1_2019  col2_2018  col2_2019  col1  col2\n",
      "0  2018          1          3          5          7     1     5\n",
      "1  2019          2          4          6          8     4     8\n"
     ]
    }
   ],
   "source": [
    "import pandas as pd\n",
    "\n",
    "# create a sample dataframe\n",
    "df = pd.DataFrame({\n",
    "    'year': ['2018', '2019'],\n",
    "    'col1_2018': [1, 2],\n",
    "    'col1_2019': [3, 4],\n",
    "    'col2_2018': [5, 6],\n",
    "    'col2_2019': [7, 8]\n",
    "})\n",
    "\n",
    "# define a function to extract the relevant column data based on the year\n",
    "def get_year_data(row):\n",
    "    year = row['year']\n",
    "    if year == '2019':\n",
    "        return row['col1_2019'], row['col2_2019']\n",
    "    elif year == '2018':\n",
    "        return row['col1_2018'], row['col2_2018']\n",
    "    else:\n",
    "        return 'unknown', 'unknown'\n",
    "\n",
    "# create a new column 'year_data' based on 'year'\n",
    "df[['col1', 'col2']] = df.apply(get_year_data, axis=1, result_type='expand')\n",
    "\n",
    "print(df)"
   ]
  },
  {
   "cell_type": "code",
   "execution_count": 10,
   "id": "a09d85b2",
   "metadata": {},
   "outputs": [
    {
     "ename": "ValueError",
     "evalue": "The truth value of a Series is ambiguous. Use a.empty, a.bool(), a.item(), a.any() or a.all().",
     "output_type": "error",
     "traceback": [
      "\u001b[1;31m---------------------------------------------------------------------------\u001b[0m",
      "\u001b[1;31mValueError\u001b[0m                                Traceback (most recent call last)",
      "\u001b[1;32m~\\AppData\\Local\\Temp/ipykernel_12224/4108953307.py\u001b[0m in \u001b[0;36m<module>\u001b[1;34m\u001b[0m\n\u001b[0;32m     19\u001b[0m \u001b[1;33m\u001b[0m\u001b[0m\n\u001b[0;32m     20\u001b[0m \u001b[1;31m# create a new column 'year_data' based on 'year'\u001b[0m\u001b[1;33m\u001b[0m\u001b[1;33m\u001b[0m\u001b[0m\n\u001b[1;32m---> 21\u001b[1;33m \u001b[0mdf\u001b[0m\u001b[1;33m[\u001b[0m\u001b[1;33m[\u001b[0m\u001b[1;34m'col1'\u001b[0m\u001b[1;33m]\u001b[0m\u001b[1;33m]\u001b[0m \u001b[1;33m=\u001b[0m \u001b[0mdf\u001b[0m\u001b[1;33m.\u001b[0m\u001b[0mapply\u001b[0m\u001b[1;33m(\u001b[0m\u001b[0mget_year_data\u001b[0m\u001b[1;33m(\u001b[0m\u001b[0mdf\u001b[0m\u001b[1;33m,\u001b[0m \u001b[1;34m'col1_'\u001b[0m\u001b[1;33m)\u001b[0m\u001b[1;33m,\u001b[0m \u001b[0maxis\u001b[0m\u001b[1;33m=\u001b[0m\u001b[1;36m1\u001b[0m\u001b[1;33m,\u001b[0m \u001b[0mresult_type\u001b[0m\u001b[1;33m=\u001b[0m\u001b[1;34m'expand'\u001b[0m\u001b[1;33m)\u001b[0m\u001b[1;33m\u001b[0m\u001b[1;33m\u001b[0m\u001b[0m\n\u001b[0m\u001b[0;32m     22\u001b[0m \u001b[1;33m\u001b[0m\u001b[0m\n\u001b[0;32m     23\u001b[0m \u001b[0mprint\u001b[0m\u001b[1;33m(\u001b[0m\u001b[0mdf\u001b[0m\u001b[1;33m)\u001b[0m\u001b[1;33m\u001b[0m\u001b[1;33m\u001b[0m\u001b[0m\n",
      "\u001b[1;32m~\\AppData\\Local\\Temp/ipykernel_12224/4108953307.py\u001b[0m in \u001b[0;36mget_year_data\u001b[1;34m(row, cola)\u001b[0m\n\u001b[0;32m     11\u001b[0m \u001b[1;32mdef\u001b[0m \u001b[0mget_year_data\u001b[0m\u001b[1;33m(\u001b[0m\u001b[0mrow\u001b[0m\u001b[1;33m,\u001b[0m \u001b[0mcola\u001b[0m\u001b[1;33m)\u001b[0m\u001b[1;33m:\u001b[0m\u001b[1;33m\u001b[0m\u001b[1;33m\u001b[0m\u001b[0m\n\u001b[0;32m     12\u001b[0m     \u001b[0myear\u001b[0m \u001b[1;33m=\u001b[0m \u001b[0mrow\u001b[0m\u001b[1;33m[\u001b[0m\u001b[1;34m'year'\u001b[0m\u001b[1;33m]\u001b[0m\u001b[1;33m\u001b[0m\u001b[1;33m\u001b[0m\u001b[0m\n\u001b[1;32m---> 13\u001b[1;33m     \u001b[1;32mif\u001b[0m \u001b[0myear\u001b[0m \u001b[1;33m==\u001b[0m \u001b[1;34m'2019'\u001b[0m\u001b[1;33m:\u001b[0m\u001b[1;33m\u001b[0m\u001b[1;33m\u001b[0m\u001b[0m\n\u001b[0m\u001b[0;32m     14\u001b[0m         \u001b[1;32mreturn\u001b[0m \u001b[0mrow\u001b[0m\u001b[1;33m[\u001b[0m\u001b[0mcola\u001b[0m\u001b[1;33m+\u001b[0m\u001b[1;34m'2019'\u001b[0m\u001b[1;33m]\u001b[0m\u001b[1;33m\u001b[0m\u001b[1;33m\u001b[0m\u001b[0m\n\u001b[0;32m     15\u001b[0m     \u001b[1;32melif\u001b[0m \u001b[0myear\u001b[0m \u001b[1;33m==\u001b[0m \u001b[1;34m'2018'\u001b[0m\u001b[1;33m:\u001b[0m\u001b[1;33m\u001b[0m\u001b[1;33m\u001b[0m\u001b[0m\n",
      "\u001b[1;32m~\\anaconda3\\lib\\site-packages\\pandas\\core\\generic.py\u001b[0m in \u001b[0;36m__nonzero__\u001b[1;34m(self)\u001b[0m\n\u001b[0;32m   1535\u001b[0m     \u001b[1;33m@\u001b[0m\u001b[0mfinal\u001b[0m\u001b[1;33m\u001b[0m\u001b[1;33m\u001b[0m\u001b[0m\n\u001b[0;32m   1536\u001b[0m     \u001b[1;32mdef\u001b[0m \u001b[0m__nonzero__\u001b[0m\u001b[1;33m(\u001b[0m\u001b[0mself\u001b[0m\u001b[1;33m)\u001b[0m\u001b[1;33m:\u001b[0m\u001b[1;33m\u001b[0m\u001b[1;33m\u001b[0m\u001b[0m\n\u001b[1;32m-> 1537\u001b[1;33m         raise ValueError(\n\u001b[0m\u001b[0;32m   1538\u001b[0m             \u001b[1;34mf\"The truth value of a {type(self).__name__} is ambiguous. \"\u001b[0m\u001b[1;33m\u001b[0m\u001b[1;33m\u001b[0m\u001b[0m\n\u001b[0;32m   1539\u001b[0m             \u001b[1;34m\"Use a.empty, a.bool(), a.item(), a.any() or a.all().\"\u001b[0m\u001b[1;33m\u001b[0m\u001b[1;33m\u001b[0m\u001b[0m\n",
      "\u001b[1;31mValueError\u001b[0m: The truth value of a Series is ambiguous. Use a.empty, a.bool(), a.item(), a.any() or a.all()."
     ]
    }
   ],
   "source": [
    "import pandas as pd\n",
    "\n",
    "# create a sample dataframe\n",
    "df = pd.DataFrame({\n",
    "    'year': ['2018', '2019'],\n",
    "    'col1_2018': [1, 2],\n",
    "    'col1_2019': [3, 4]\n",
    "})\n",
    "\n",
    "# define a function to extract the relevant column data based on the year\n",
    "def get_year_data(row, cola):\n",
    "    year = row['year']\n",
    "    if year == '2019':\n",
    "        return row[cola+'2019']\n",
    "    elif year == '2018':\n",
    "        return row[cola+'2018']\n",
    "    else:\n",
    "        return 'unknown', 'unknown'\n",
    "\n",
    "# create a new column 'year_data' based on 'year'\n",
    "df[['col1']] = df.apply(get_year_data(df, 'col1_'), axis=1, result_type='expand')\n",
    "\n",
    "print(df)\n",
    "\n"
   ]
  },
  {
   "cell_type": "code",
   "execution_count": 14,
   "id": "3166f85d",
   "metadata": {},
   "outputs": [
    {
     "data": {
      "text/html": [
       "<div>\n",
       "<style scoped>\n",
       "    .dataframe tbody tr th:only-of-type {\n",
       "        vertical-align: middle;\n",
       "    }\n",
       "\n",
       "    .dataframe tbody tr th {\n",
       "        vertical-align: top;\n",
       "    }\n",
       "\n",
       "    .dataframe thead th {\n",
       "        text-align: right;\n",
       "    }\n",
       "</style>\n",
       "<table border=\"1\" class=\"dataframe\">\n",
       "  <thead>\n",
       "    <tr style=\"text-align: right;\">\n",
       "      <th></th>\n",
       "      <th>year</th>\n",
       "      <th>col1_2018</th>\n",
       "      <th>col1_2019</th>\n",
       "    </tr>\n",
       "  </thead>\n",
       "  <tbody>\n",
       "    <tr>\n",
       "      <th>0</th>\n",
       "      <td>2018</td>\n",
       "      <td>1</td>\n",
       "      <td>3</td>\n",
       "    </tr>\n",
       "    <tr>\n",
       "      <th>1</th>\n",
       "      <td>2019</td>\n",
       "      <td>2</td>\n",
       "      <td>4</td>\n",
       "    </tr>\n",
       "  </tbody>\n",
       "</table>\n",
       "</div>"
      ],
      "text/plain": [
       "   year  col1_2018  col1_2019\n",
       "0  2018          1          3\n",
       "1  2019          2          4"
      ]
     },
     "metadata": {},
     "output_type": "display_data"
    },
    {
     "data": {
      "text/html": [
       "<div>\n",
       "<style scoped>\n",
       "    .dataframe tbody tr th:only-of-type {\n",
       "        vertical-align: middle;\n",
       "    }\n",
       "\n",
       "    .dataframe tbody tr th {\n",
       "        vertical-align: top;\n",
       "    }\n",
       "\n",
       "    .dataframe thead th {\n",
       "        text-align: right;\n",
       "    }\n",
       "</style>\n",
       "<table border=\"1\" class=\"dataframe\">\n",
       "  <thead>\n",
       "    <tr style=\"text-align: right;\">\n",
       "      <th></th>\n",
       "      <th>year</th>\n",
       "      <th>variable</th>\n",
       "      <th>result</th>\n",
       "    </tr>\n",
       "  </thead>\n",
       "  <tbody>\n",
       "    <tr>\n",
       "      <th>0</th>\n",
       "      <td>2018</td>\n",
       "      <td>col1_2018</td>\n",
       "      <td>1</td>\n",
       "    </tr>\n",
       "    <tr>\n",
       "      <th>1</th>\n",
       "      <td>2019</td>\n",
       "      <td>col1_2018</td>\n",
       "      <td>2</td>\n",
       "    </tr>\n",
       "    <tr>\n",
       "      <th>2</th>\n",
       "      <td>2018</td>\n",
       "      <td>col1_2019</td>\n",
       "      <td>3</td>\n",
       "    </tr>\n",
       "    <tr>\n",
       "      <th>3</th>\n",
       "      <td>2019</td>\n",
       "      <td>col1_2019</td>\n",
       "      <td>4</td>\n",
       "    </tr>\n",
       "  </tbody>\n",
       "</table>\n",
       "</div>"
      ],
      "text/plain": [
       "   year   variable  result\n",
       "0  2018  col1_2018       1\n",
       "1  2019  col1_2018       2\n",
       "2  2018  col1_2019       3\n",
       "3  2019  col1_2019       4"
      ]
     },
     "metadata": {},
     "output_type": "display_data"
    }
   ],
   "source": [
    "import pandas as pd\n",
    "\n",
    "def get_year_data(row, cola):\n",
    "    year = row['year']\n",
    "    if year == '2019':\n",
    "        return row[cola+'2019']\n",
    "    elif year == '2018':\n",
    "        return row[cola+'2018']\n",
    "    else:\n",
    "        return 'unknown', 'unknown'\n",
    "# Define a function that creates a new column\n",
    "def add_column(df, col_name):\n",
    "    df[col_name] = df['A'] + df['B']\n",
    "    return df\n",
    "\n",
    "\n",
    "# Create a DataFrame\n",
    "df = pd.DataFrame({\n",
    "    'year': ['2018', '2019'],\n",
    "    'col1_2018': [1, 2],\n",
    "    'col1_2019': [3, 4]\n",
    "})\n",
    "\n",
    "display(df)\n",
    "\n",
    "df2 = pd.melt(df, id_vars=['year'], value_vars=['col1_2018', 'col1_2019'], value_name='result')\n",
    "display(df2)"
   ]
  },
  {
   "cell_type": "code",
   "execution_count": 11,
   "id": "a657a944",
   "metadata": {},
   "outputs": [
    {
     "name": "stdout",
     "output_type": "stream",
     "text": [
      "      Name  Graduated          Year  Grade\n",
      "0    Alice       True  Year_1_Grade     90\n",
      "1      Bob      False  Year_1_Grade     80\n",
      "2  Charlie       True  Year_1_Grade     85\n",
      "3    Alice       True  Year_2_Grade     92\n",
      "4      Bob      False  Year_2_Grade     88\n",
      "5  Charlie       True  Year_2_Grade     90\n",
      "6    Alice       True  Year_3_Grade     87\n",
      "7      Bob      False  Year_3_Grade     89\n",
      "8  Charlie       True  Year_3_Grade     91\n"
     ]
    }
   ],
   "source": [
    "import pandas as pd\n",
    "\n",
    "# Create a DataFrame\n",
    "df = pd.DataFrame({'Name': ['Alice', 'Bob', 'Charlie'],\n",
    "                   'Year_1_Grade': [90, 80, 85],\n",
    "                   'Year_2_Grade': [92, 88, 90],\n",
    "                   'Year_3_Grade': [87, 89, 91],\n",
    "                   'Graduated': [True, False, True]})\n",
    "\n",
    "# Use melt() to merge the year columns into one column based on the 'Graduated' column\n",
    "df = pd.melt(df, id_vars=['Name', 'Graduated'], value_vars=['Year_1_Grade', 'Year_2_Grade', 'Year_3_Grade'],\n",
    "             var_name='Year', value_name='Grade')\n",
    "\n",
    "# Replace the 'Year_1_Grade', 'Year_2_Grade', 'Year_3_Grade' columns with the merged 'Year' and 'Grade' columns\n",
    "df = df[['Name', 'Graduated', 'Year', 'Grade']]\n",
    "\n",
    "print(df)"
   ]
  },
  {
   "cell_type": "code",
   "execution_count": 16,
   "id": "a016c009",
   "metadata": {},
   "outputs": [
    {
     "data": {
      "text/html": [
       "<div>\n",
       "<style scoped>\n",
       "    .dataframe tbody tr th:only-of-type {\n",
       "        vertical-align: middle;\n",
       "    }\n",
       "\n",
       "    .dataframe tbody tr th {\n",
       "        vertical-align: top;\n",
       "    }\n",
       "\n",
       "    .dataframe thead th {\n",
       "        text-align: right;\n",
       "    }\n",
       "</style>\n",
       "<table border=\"1\" class=\"dataframe\">\n",
       "  <thead>\n",
       "    <tr style=\"text-align: right;\">\n",
       "      <th></th>\n",
       "      <th>year</th>\n",
       "      <th>col_2018</th>\n",
       "      <th>col_2019</th>\n",
       "    </tr>\n",
       "  </thead>\n",
       "  <tbody>\n",
       "    <tr>\n",
       "      <th>0</th>\n",
       "      <td>2018</td>\n",
       "      <td>a</td>\n",
       "      <td>d</td>\n",
       "    </tr>\n",
       "    <tr>\n",
       "      <th>1</th>\n",
       "      <td>2019</td>\n",
       "      <td>b</td>\n",
       "      <td>e</td>\n",
       "    </tr>\n",
       "    <tr>\n",
       "      <th>2</th>\n",
       "      <td>2018</td>\n",
       "      <td>c</td>\n",
       "      <td>f</td>\n",
       "    </tr>\n",
       "  </tbody>\n",
       "</table>\n",
       "</div>"
      ],
      "text/plain": [
       "   year col_2018 col_2019\n",
       "0  2018        a        d\n",
       "1  2019        b        e\n",
       "2  2018        c        f"
      ]
     },
     "metadata": {},
     "output_type": "display_data"
    },
    {
     "name": "stdout",
     "output_type": "stream",
     "text": [
      "   year col_2018 col_2019 result\n",
      "0  2018        a        d      a\n",
      "1  2019        b        e      e\n",
      "2  2018        c        f      c\n"
     ]
    }
   ],
   "source": [
    "import pandas as pd\n",
    "\n",
    "# Define the column names as variables\n",
    "col_2018_name = 'col_2018'\n",
    "col_2019_name = 'col_2019'\n",
    "\n",
    "# Create a DataFrame\n",
    "df = pd.DataFrame({'year': [2018, 2019, 2018],\n",
    "                   col_2018_name: ['a', 'b', 'c'],\n",
    "                   col_2019_name: ['d', 'e', 'f']})\n",
    "\n",
    "display(df)\n",
    "\n",
    "# Define a function to map the year values to column names\n",
    "def map_columns(x):\n",
    "    if x == 2018:\n",
    "        return col_2018_name\n",
    "    elif x == 2019:\n",
    "        return col_2019_name\n",
    "\n",
    "\n",
    "# Create a new column 'result' using the 'map_columns' function and the column name variables\n",
    "df['result'] = df.apply(lambda row: row[map_columns(row['year'])], axis=1)\n",
    "\n",
    "print(df)"
   ]
  },
  {
   "cell_type": "code",
   "execution_count": 17,
   "id": "d200de98",
   "metadata": {},
   "outputs": [
    {
     "name": "stdout",
     "output_type": "stream",
     "text": [
      "   year year_2018 year_2019 result\n",
      "0  2018         a         d      a\n",
      "1  2019         b         e      e\n",
      "2  2018         c         f      c\n"
     ]
    }
   ],
   "source": [
    "import pandas as pd\n",
    "\n",
    "# Create a DataFrame\n",
    "df = pd.DataFrame({'year': [2018, 2019, 2018],\n",
    "                   'year_2018': ['a', 'b', 'c'],\n",
    "                   'year_2019': ['d', 'e', 'f']})\n",
    "\n",
    "# Create a new empty column 'result'\n",
    "df['result'] = ''\n",
    "\n",
    "# Iterate over the DataFrame row by row\n",
    "for index, row in df.iterrows():\n",
    "    if row['year'] == 2018:\n",
    "        df.at[index, 'result'] = row['year_2018']\n",
    "    elif row['year'] == 2019:\n",
    "        df.at[index, 'result'] = row['year_2019']\n",
    "\n",
    "print(df)"
   ]
  },
  {
   "cell_type": "code",
   "execution_count": 18,
   "id": "dcd381b6",
   "metadata": {},
   "outputs": [
    {
     "name": "stdout",
     "output_type": "stream",
     "text": [
      "   year_a_ year_a_2018 year_a_2019  year_b_ year_b_2018 year_b_2019  \\\n",
      "0     2018           a           d     2019           g           j   \n",
      "1     2019           b           e     2018           h           k   \n",
      "2     2018           c           f     2019           i           l   \n",
      "\n",
      "  a_result_suffix b_result_suffix  \n",
      "0               a               j  \n",
      "1               e               h  \n",
      "2               c               l  \n"
     ]
    }
   ],
   "source": [
    "import pandas as pd\n",
    "\n",
    "# Define a function to create a result column based on year columns and a suffix\n",
    "def create_result_column(df, category, year_2018_col, year_2019_col, result_suffix):\n",
    "    result_col = f\"{category}_result_{result_suffix}\"\n",
    "    df[result_col] = ''\n",
    "    for index, row in df.iterrows():\n",
    "        if row[f\"year_{category}_\"] == 2018:\n",
    "            df.at[index, result_col] = row[year_2018_col]\n",
    "        elif row[f\"year_{category}_\"] == 2019:\n",
    "            df.at[index, result_col] = row[year_2019_col]\n",
    "    return df\n",
    "\n",
    "# Create a DataFrame\n",
    "df = pd.DataFrame({'year_a_': [2018, 2019, 2018],\n",
    "                   'year_a_2018': ['a', 'b', 'c'],\n",
    "                   'year_a_2019': ['d', 'e', 'f'],\n",
    "                   'year_b_': [2019, 2018, 2019],\n",
    "                   'year_b_2018': ['g', 'h', 'i'],\n",
    "                   'year_b_2019': ['j', 'k', 'l']})\n",
    "\n",
    "# Create the result columns for each category\n",
    "df = create_result_column(df, 'a', 'year_a_2018', 'year_a_2019', 'suffix')\n",
    "df = create_result_column(df, 'b', 'year_b_2018', 'year_b_2019', 'suffix')\n",
    "\n",
    "print(df)"
   ]
  },
  {
   "cell_type": "markdown",
   "id": "efb1c935",
   "metadata": {},
   "source": [
    "# Promising option"
   ]
  },
  {
   "cell_type": "code",
   "execution_count": 25,
   "id": "a7ca6fb7",
   "metadata": {},
   "outputs": [
    {
     "name": "stdout",
     "output_type": "stream",
     "text": [
      "   year a_result b_result\n",
      "0  2018        a        g\n",
      "1  2019        e        k\n",
      "2  2018        c        i\n"
     ]
    }
   ],
   "source": [
    "# Create a DataFrame\n",
    "df = pd.DataFrame({'year': [2018, 2019, 2018],\n",
    "                   'year_a_2018': ['a', 'b', 'c'],\n",
    "                   'year_a_2019': ['d', 'e', 'f'],\n",
    "                   'year_b_2018': ['g', 'h', 'i'],\n",
    "                   'year_b_2019': ['j', 'k', 'l']})\n",
    "\n",
    "\n",
    "def create_result_column(df, category, year_col, year_2018_col, year_2019_col):\n",
    "    result_col = f\"{category}_result\"\n",
    "    df[result_col] = ''\n",
    "    for index, row in df.iterrows():\n",
    "        if row[year_col] == 2018:\n",
    "            df.at[index, result_col] = row[year_2018_col]\n",
    "        elif row[year_col] == 2019:\n",
    "            df.at[index, result_col] = row[year_2019_col]\n",
    "    df = df.drop([year_2018_col, year_2019_col], axis=1)\n",
    "    return df\n",
    "\n",
    "# Create the result columns for each category\n",
    "df = create_result_column(df, 'a', 'year', 'year_a_2018', 'year_a_2019')\n",
    "df = create_result_column(df, 'b', 'year', 'year_b_2018', 'year_b_2019')\n",
    "\n",
    "print(df)\n"
   ]
  },
  {
   "cell_type": "code",
   "execution_count": 22,
   "id": "bb2c5da3",
   "metadata": {},
   "outputs": [
    {
     "ename": "SyntaxError",
     "evalue": "invalid syntax (Temp/ipykernel_12224/140464654.py, line 1)",
     "output_type": "error",
     "traceback": [
      "\u001b[1;36m  File \u001b[1;32m\"C:\\Users\\Daniel2\\AppData\\Local\\Temp/ipykernel_12224/140464654.py\"\u001b[1;36m, line \u001b[1;32m1\u001b[0m\n\u001b[1;33m    a = 2018.dt.strftime('%Y')\u001b[0m\n\u001b[1;37m             ^\u001b[0m\n\u001b[1;31mSyntaxError\u001b[0m\u001b[1;31m:\u001b[0m invalid syntax\n"
     ]
    }
   ],
   "source": [
    "a = 2018\n",
    "\n",
    "print(a)\n",
    "\n"
   ]
  }
 ],
 "metadata": {
  "kernelspec": {
   "display_name": "Python 3 (ipykernel)",
   "language": "python",
   "name": "python3"
  },
  "language_info": {
   "codemirror_mode": {
    "name": "ipython",
    "version": 3
   },
   "file_extension": ".py",
   "mimetype": "text/x-python",
   "name": "python",
   "nbconvert_exporter": "python",
   "pygments_lexer": "ipython3",
   "version": "3.9.7"
  }
 },
 "nbformat": 4,
 "nbformat_minor": 5
}
